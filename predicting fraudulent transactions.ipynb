{
 "cells": [
  {
   "cell_type": "markdown",
   "metadata": {
    "_cell_guid": "b1076dfc-b9ad-4769-8c92-a6c4dae69d19",
    "_uuid": "8f2839f25d086af736a60e9eeb907d3b93b6e0e5",
    "execution": {
     "iopub.execute_input": "2022-03-22T04:26:28.687855Z",
     "iopub.status.busy": "2022-03-22T04:26:28.687509Z",
     "iopub.status.idle": "2022-03-22T04:26:31.201044Z",
     "shell.execute_reply": "2022-03-22T04:26:31.200117Z",
     "shell.execute_reply.started": "2022-03-22T04:26:28.687816Z"
    }
   },
   "source": [
    "# Model for predicting Fraudulent Transactions"
   ]
  },
  {
   "cell_type": "markdown",
   "metadata": {},
   "source": [
    "Fraud detection is classified as an imbalanced classification problem. There is a considerable disparity between the number of fraudulent profiles/transactions and the number of non-fraudulent profiles/transactions, to be specific. As a result, utilising accuracy as an evaluation criteria will not go you very far.\n",
    "\n",
    "Consider a dataset containing one fraudulent transaction and 99 non-fraudulent transactions to see why (in the real world, the ratio is even smaller). It would be 99 percent accurate for a machine learning model to categorise every single transaction as non-fraudulent! Unfortunately, we aren't concerned with non-fraudulent transactions, thus this accuracy-based model falls short of solving the problem."
   ]
  },
  {
   "cell_type": "code",
   "execution_count": 34,
   "metadata": {},
   "outputs": [],
   "source": [
    "import numpy as np\n",
    "import pandas as pd\n",
    "import matplotlib.pyplot as plt\n",
    "import seaborn as sns\n",
    "sns.set_style('darkgrid')\n",
    "plt.style.use('dark_background')\n",
    "import warnings\n",
    "warnings.filterwarnings('ignore')\n",
    "from sklearn.preprocessing import LabelEncoder\n",
    "label = LabelEncoder()\n",
    "\n",
    "# Splitting Train-Test data\n",
    "from sklearn.model_selection import train_test_split\n",
    "\n",
    "# For Cross Validation\n",
    "from sklearn.model_selection import StratifiedKFold\n",
    "from sklearn.metrics import accuracy_score\n",
    "from sklearn import metrics\n",
    "\n",
    "# For showing Progress Bar\n",
    "from tqdm.notebook import tqdm\n",
    "\n",
    "# Models\n",
    "import optuna\n",
    "import xgboost as xgb\n",
    "import lightgbm as lgbm\n",
    "import catboost as catb\n",
    "def my_print(s):\n",
    "    \n",
    "    a = 4\n",
    "    for i in s:\n",
    "        a+=1\n",
    "    return print('-' * a + '\\n' + '| ' + s + ' |' + '\\n' + '-' * a)"
   ]
  },
  {
   "cell_type": "code",
   "execution_count": 2,
   "metadata": {
    "execution": {
     "iopub.execute_input": "2022-03-22T04:17:47.146546Z",
     "iopub.status.busy": "2022-03-22T04:17:47.145666Z",
     "iopub.status.idle": "2022-03-22T04:18:04.758906Z",
     "shell.execute_reply": "2022-03-22T04:18:04.758188Z",
     "shell.execute_reply.started": "2022-03-22T04:17:47.146484Z"
    }
   },
   "outputs": [],
   "source": [
    "df = pd.read_csv('Fraud.csv')"
   ]
  },
  {
   "cell_type": "markdown",
   "metadata": {},
   "source": [
    "step - maps a unit of time in the real world. In this case 1 step is 1 hour of time. Total steps 744 (30 days simulation).\n",
    "\n",
    "type - CASH-IN, CASH-OUT, DEBIT, PAYMENT and TRANSFER.\n",
    "\n",
    "amount - amount of the transaction in local currency.\n",
    "\n",
    "nameOrig - customer who started the transaction\n",
    "\n",
    "oldbalanceOrg - initial balance before the transaction\n",
    "\n",
    "newbalanceOrig - new balance after the transaction\n",
    "\n",
    "nameDest - customer who is the recipient of the transaction\n",
    "\n",
    "oldbalanceDest - initial balance recipient before the transaction. Note that there is not information for customers that start with M (Merchants).\n",
    "\n",
    "newbalanceDest - new balance recipient after the transaction. Note that there is not information for customers that start with M (Merchants).\n",
    "\n",
    "isFraud - This is the transactions made by the fraudulent agents inside the simulation. In this specific dataset the fraudulent behavior of the agents aims to profit by taking control or customers accounts and try to empty the funds by transferring to another account and then cashing out of the system.\n",
    "\n",
    "isFlaggedFraud - The business model aims to control massive transfers from one account to another and flags illegal attempts. An illegal attempt in this dataset is an attempt to transfer more than 200.000 in a single transaction."
   ]
  },
  {
   "cell_type": "code",
   "execution_count": 3,
   "metadata": {
    "execution": {
     "iopub.execute_input": "2022-03-22T04:18:04.761231Z",
     "iopub.status.busy": "2022-03-22T04:18:04.760705Z",
     "iopub.status.idle": "2022-03-22T04:18:04.786776Z",
     "shell.execute_reply": "2022-03-22T04:18:04.785571Z",
     "shell.execute_reply.started": "2022-03-22T04:18:04.761185Z"
    }
   },
   "outputs": [
    {
     "data": {
      "text/html": [
       "<div>\n",
       "<style scoped>\n",
       "    .dataframe tbody tr th:only-of-type {\n",
       "        vertical-align: middle;\n",
       "    }\n",
       "\n",
       "    .dataframe tbody tr th {\n",
       "        vertical-align: top;\n",
       "    }\n",
       "\n",
       "    .dataframe thead th {\n",
       "        text-align: right;\n",
       "    }\n",
       "</style>\n",
       "<table border=\"1\" class=\"dataframe\">\n",
       "  <thead>\n",
       "    <tr style=\"text-align: right;\">\n",
       "      <th></th>\n",
       "      <th>step</th>\n",
       "      <th>type</th>\n",
       "      <th>amount</th>\n",
       "      <th>nameOrig</th>\n",
       "      <th>oldbalanceOrg</th>\n",
       "      <th>newbalanceOrig</th>\n",
       "      <th>nameDest</th>\n",
       "      <th>oldbalanceDest</th>\n",
       "      <th>newbalanceDest</th>\n",
       "      <th>isFraud</th>\n",
       "      <th>isFlaggedFraud</th>\n",
       "    </tr>\n",
       "  </thead>\n",
       "  <tbody>\n",
       "    <tr>\n",
       "      <th>0</th>\n",
       "      <td>1</td>\n",
       "      <td>PAYMENT</td>\n",
       "      <td>9839.64</td>\n",
       "      <td>C1231006815</td>\n",
       "      <td>170136.0</td>\n",
       "      <td>160296.36</td>\n",
       "      <td>M1979787155</td>\n",
       "      <td>0.0</td>\n",
       "      <td>0.0</td>\n",
       "      <td>0</td>\n",
       "      <td>0</td>\n",
       "    </tr>\n",
       "    <tr>\n",
       "      <th>1</th>\n",
       "      <td>1</td>\n",
       "      <td>PAYMENT</td>\n",
       "      <td>1864.28</td>\n",
       "      <td>C1666544295</td>\n",
       "      <td>21249.0</td>\n",
       "      <td>19384.72</td>\n",
       "      <td>M2044282225</td>\n",
       "      <td>0.0</td>\n",
       "      <td>0.0</td>\n",
       "      <td>0</td>\n",
       "      <td>0</td>\n",
       "    </tr>\n",
       "    <tr>\n",
       "      <th>2</th>\n",
       "      <td>1</td>\n",
       "      <td>TRANSFER</td>\n",
       "      <td>181.00</td>\n",
       "      <td>C1305486145</td>\n",
       "      <td>181.0</td>\n",
       "      <td>0.00</td>\n",
       "      <td>C553264065</td>\n",
       "      <td>0.0</td>\n",
       "      <td>0.0</td>\n",
       "      <td>1</td>\n",
       "      <td>0</td>\n",
       "    </tr>\n",
       "    <tr>\n",
       "      <th>3</th>\n",
       "      <td>1</td>\n",
       "      <td>CASH_OUT</td>\n",
       "      <td>181.00</td>\n",
       "      <td>C840083671</td>\n",
       "      <td>181.0</td>\n",
       "      <td>0.00</td>\n",
       "      <td>C38997010</td>\n",
       "      <td>21182.0</td>\n",
       "      <td>0.0</td>\n",
       "      <td>1</td>\n",
       "      <td>0</td>\n",
       "    </tr>\n",
       "    <tr>\n",
       "      <th>4</th>\n",
       "      <td>1</td>\n",
       "      <td>PAYMENT</td>\n",
       "      <td>11668.14</td>\n",
       "      <td>C2048537720</td>\n",
       "      <td>41554.0</td>\n",
       "      <td>29885.86</td>\n",
       "      <td>M1230701703</td>\n",
       "      <td>0.0</td>\n",
       "      <td>0.0</td>\n",
       "      <td>0</td>\n",
       "      <td>0</td>\n",
       "    </tr>\n",
       "  </tbody>\n",
       "</table>\n",
       "</div>"
      ],
      "text/plain": [
       "   step      type    amount     nameOrig  oldbalanceOrg  newbalanceOrig  \\\n",
       "0     1   PAYMENT   9839.64  C1231006815       170136.0       160296.36   \n",
       "1     1   PAYMENT   1864.28  C1666544295        21249.0        19384.72   \n",
       "2     1  TRANSFER    181.00  C1305486145          181.0            0.00   \n",
       "3     1  CASH_OUT    181.00   C840083671          181.0            0.00   \n",
       "4     1   PAYMENT  11668.14  C2048537720        41554.0        29885.86   \n",
       "\n",
       "      nameDest  oldbalanceDest  newbalanceDest  isFraud  isFlaggedFraud  \n",
       "0  M1979787155             0.0             0.0        0               0  \n",
       "1  M2044282225             0.0             0.0        0               0  \n",
       "2   C553264065             0.0             0.0        1               0  \n",
       "3    C38997010         21182.0             0.0        1               0  \n",
       "4  M1230701703             0.0             0.0        0               0  "
      ]
     },
     "execution_count": 3,
     "metadata": {},
     "output_type": "execute_result"
    }
   ],
   "source": [
    "df.head()"
   ]
  },
  {
   "cell_type": "code",
   "execution_count": 4,
   "metadata": {
    "execution": {
     "iopub.execute_input": "2022-03-22T04:18:06.266203Z",
     "iopub.status.busy": "2022-03-22T04:18:06.265888Z",
     "iopub.status.idle": "2022-03-22T04:18:06.28907Z",
     "shell.execute_reply": "2022-03-22T04:18:06.287905Z",
     "shell.execute_reply.started": "2022-03-22T04:18:06.266173Z"
    }
   },
   "outputs": [
    {
     "name": "stdout",
     "output_type": "stream",
     "text": [
      "<class 'pandas.core.frame.DataFrame'>\n",
      "RangeIndex: 6362620 entries, 0 to 6362619\n",
      "Data columns (total 11 columns):\n",
      " #   Column          Dtype  \n",
      "---  ------          -----  \n",
      " 0   step            int64  \n",
      " 1   type            object \n",
      " 2   amount          float64\n",
      " 3   nameOrig        object \n",
      " 4   oldbalanceOrg   float64\n",
      " 5   newbalanceOrig  float64\n",
      " 6   nameDest        object \n",
      " 7   oldbalanceDest  float64\n",
      " 8   newbalanceDest  float64\n",
      " 9   isFraud         int64  \n",
      " 10  isFlaggedFraud  int64  \n",
      "dtypes: float64(5), int64(3), object(3)\n",
      "memory usage: 534.0+ MB\n"
     ]
    }
   ],
   "source": [
    "df.info()"
   ]
  },
  {
   "cell_type": "code",
   "execution_count": 5,
   "metadata": {
    "execution": {
     "iopub.execute_input": "2022-03-22T04:18:07.471747Z",
     "iopub.status.busy": "2022-03-22T04:18:07.4709Z",
     "iopub.status.idle": "2022-03-22T04:18:09.161847Z",
     "shell.execute_reply": "2022-03-22T04:18:09.160848Z",
     "shell.execute_reply.started": "2022-03-22T04:18:07.471706Z"
    }
   },
   "outputs": [
    {
     "data": {
      "text/html": [
       "<div>\n",
       "<style scoped>\n",
       "    .dataframe tbody tr th:only-of-type {\n",
       "        vertical-align: middle;\n",
       "    }\n",
       "\n",
       "    .dataframe tbody tr th {\n",
       "        vertical-align: top;\n",
       "    }\n",
       "\n",
       "    .dataframe thead th {\n",
       "        text-align: right;\n",
       "    }\n",
       "</style>\n",
       "<table border=\"1\" class=\"dataframe\">\n",
       "  <thead>\n",
       "    <tr style=\"text-align: right;\">\n",
       "      <th></th>\n",
       "      <th>step</th>\n",
       "      <th>amount</th>\n",
       "      <th>oldbalanceOrg</th>\n",
       "      <th>newbalanceOrig</th>\n",
       "      <th>oldbalanceDest</th>\n",
       "      <th>newbalanceDest</th>\n",
       "      <th>isFraud</th>\n",
       "      <th>isFlaggedFraud</th>\n",
       "    </tr>\n",
       "  </thead>\n",
       "  <tbody>\n",
       "    <tr>\n",
       "      <th>count</th>\n",
       "      <td>6.362620e+06</td>\n",
       "      <td>6.362620e+06</td>\n",
       "      <td>6.362620e+06</td>\n",
       "      <td>6.362620e+06</td>\n",
       "      <td>6.362620e+06</td>\n",
       "      <td>6.362620e+06</td>\n",
       "      <td>6.362620e+06</td>\n",
       "      <td>6.362620e+06</td>\n",
       "    </tr>\n",
       "    <tr>\n",
       "      <th>mean</th>\n",
       "      <td>2.433972e+02</td>\n",
       "      <td>1.798619e+05</td>\n",
       "      <td>8.338831e+05</td>\n",
       "      <td>8.551137e+05</td>\n",
       "      <td>1.100702e+06</td>\n",
       "      <td>1.224996e+06</td>\n",
       "      <td>1.290820e-03</td>\n",
       "      <td>2.514687e-06</td>\n",
       "    </tr>\n",
       "    <tr>\n",
       "      <th>std</th>\n",
       "      <td>1.423320e+02</td>\n",
       "      <td>6.038582e+05</td>\n",
       "      <td>2.888243e+06</td>\n",
       "      <td>2.924049e+06</td>\n",
       "      <td>3.399180e+06</td>\n",
       "      <td>3.674129e+06</td>\n",
       "      <td>3.590480e-02</td>\n",
       "      <td>1.585775e-03</td>\n",
       "    </tr>\n",
       "    <tr>\n",
       "      <th>min</th>\n",
       "      <td>1.000000e+00</td>\n",
       "      <td>0.000000e+00</td>\n",
       "      <td>0.000000e+00</td>\n",
       "      <td>0.000000e+00</td>\n",
       "      <td>0.000000e+00</td>\n",
       "      <td>0.000000e+00</td>\n",
       "      <td>0.000000e+00</td>\n",
       "      <td>0.000000e+00</td>\n",
       "    </tr>\n",
       "    <tr>\n",
       "      <th>25%</th>\n",
       "      <td>1.560000e+02</td>\n",
       "      <td>1.338957e+04</td>\n",
       "      <td>0.000000e+00</td>\n",
       "      <td>0.000000e+00</td>\n",
       "      <td>0.000000e+00</td>\n",
       "      <td>0.000000e+00</td>\n",
       "      <td>0.000000e+00</td>\n",
       "      <td>0.000000e+00</td>\n",
       "    </tr>\n",
       "    <tr>\n",
       "      <th>50%</th>\n",
       "      <td>2.390000e+02</td>\n",
       "      <td>7.487194e+04</td>\n",
       "      <td>1.420800e+04</td>\n",
       "      <td>0.000000e+00</td>\n",
       "      <td>1.327057e+05</td>\n",
       "      <td>2.146614e+05</td>\n",
       "      <td>0.000000e+00</td>\n",
       "      <td>0.000000e+00</td>\n",
       "    </tr>\n",
       "    <tr>\n",
       "      <th>75%</th>\n",
       "      <td>3.350000e+02</td>\n",
       "      <td>2.087215e+05</td>\n",
       "      <td>1.073152e+05</td>\n",
       "      <td>1.442584e+05</td>\n",
       "      <td>9.430367e+05</td>\n",
       "      <td>1.111909e+06</td>\n",
       "      <td>0.000000e+00</td>\n",
       "      <td>0.000000e+00</td>\n",
       "    </tr>\n",
       "    <tr>\n",
       "      <th>max</th>\n",
       "      <td>7.430000e+02</td>\n",
       "      <td>9.244552e+07</td>\n",
       "      <td>5.958504e+07</td>\n",
       "      <td>4.958504e+07</td>\n",
       "      <td>3.560159e+08</td>\n",
       "      <td>3.561793e+08</td>\n",
       "      <td>1.000000e+00</td>\n",
       "      <td>1.000000e+00</td>\n",
       "    </tr>\n",
       "  </tbody>\n",
       "</table>\n",
       "</div>"
      ],
      "text/plain": [
       "               step        amount  oldbalanceOrg  newbalanceOrig  \\\n",
       "count  6.362620e+06  6.362620e+06   6.362620e+06    6.362620e+06   \n",
       "mean   2.433972e+02  1.798619e+05   8.338831e+05    8.551137e+05   \n",
       "std    1.423320e+02  6.038582e+05   2.888243e+06    2.924049e+06   \n",
       "min    1.000000e+00  0.000000e+00   0.000000e+00    0.000000e+00   \n",
       "25%    1.560000e+02  1.338957e+04   0.000000e+00    0.000000e+00   \n",
       "50%    2.390000e+02  7.487194e+04   1.420800e+04    0.000000e+00   \n",
       "75%    3.350000e+02  2.087215e+05   1.073152e+05    1.442584e+05   \n",
       "max    7.430000e+02  9.244552e+07   5.958504e+07    4.958504e+07   \n",
       "\n",
       "       oldbalanceDest  newbalanceDest       isFraud  isFlaggedFraud  \n",
       "count    6.362620e+06    6.362620e+06  6.362620e+06    6.362620e+06  \n",
       "mean     1.100702e+06    1.224996e+06  1.290820e-03    2.514687e-06  \n",
       "std      3.399180e+06    3.674129e+06  3.590480e-02    1.585775e-03  \n",
       "min      0.000000e+00    0.000000e+00  0.000000e+00    0.000000e+00  \n",
       "25%      0.000000e+00    0.000000e+00  0.000000e+00    0.000000e+00  \n",
       "50%      1.327057e+05    2.146614e+05  0.000000e+00    0.000000e+00  \n",
       "75%      9.430367e+05    1.111909e+06  0.000000e+00    0.000000e+00  \n",
       "max      3.560159e+08    3.561793e+08  1.000000e+00    1.000000e+00  "
      ]
     },
     "execution_count": 5,
     "metadata": {},
     "output_type": "execute_result"
    }
   ],
   "source": [
    "df.describe()"
   ]
  },
  {
   "cell_type": "markdown",
   "metadata": {},
   "source": [
    "There are a few transactions that have very large amounts. Also, the mean of isFraud is 0.00129, meaning we there are ~1.2 frauds per 1000 transactions."
   ]
  },
  {
   "cell_type": "code",
   "execution_count": 6,
   "metadata": {
    "execution": {
     "iopub.execute_input": "2022-03-22T04:18:10.076222Z",
     "iopub.status.busy": "2022-03-22T04:18:10.075891Z",
     "iopub.status.idle": "2022-03-22T04:18:10.834788Z",
     "shell.execute_reply": "2022-03-22T04:18:10.834151Z",
     "shell.execute_reply.started": "2022-03-22T04:18:10.076187Z"
    }
   },
   "outputs": [
    {
     "data": {
      "image/png": "[encoded data removed]",
      "text/plain": [
       "<Figure size 432x288 with 1 Axes>"
      ]
     },
     "metadata": {},
     "output_type": "display_data"
    }
   ],
   "source": [
    "sns.countplot(y = df['isFraud'], palette='Set1');"
   ]
  },
  {
   "cell_type": "markdown",
   "metadata": {},
   "source": [
    "The class imbalance is defined as a percentage of the total number of transactions presented in\n",
    "the isFraud column.Target Variable is highly Imbalanced."
   ]
  },
  {
   "cell_type": "code",
   "execution_count": 7,
   "metadata": {
    "execution": {
     "iopub.execute_input": "2022-03-22T04:24:16.610511Z",
     "iopub.status.busy": "2022-03-22T04:24:16.609859Z",
     "iopub.status.idle": "2022-03-22T04:24:18.818101Z",
     "shell.execute_reply": "2022-03-22T04:24:18.816928Z",
     "shell.execute_reply.started": "2022-03-22T04:24:16.610458Z"
    }
   },
   "outputs": [
    {
     "data": {
      "image/png": "[encoded data removed]",
      "text/plain": [
       "<Figure size 576x360 with 2 Axes>"
      ]
     },
     "metadata": {},
     "output_type": "display_data"
    }
   ],
   "source": [
    "plt.figure(figsize=(8,5))\n",
    "sns.heatmap(df.corr(), cmap='YlGnBu', linewidth=0.5, annot=True);"
   ]
  },
  {
   "cell_type": "code",
   "execution_count": 8,
   "metadata": {
    "execution": {
     "iopub.execute_input": "2022-03-22T04:18:20.972509Z",
     "iopub.status.busy": "2022-03-22T04:18:20.97158Z",
     "iopub.status.idle": "2022-03-22T04:18:21.012623Z",
     "shell.execute_reply": "2022-03-22T04:18:21.011925Z",
     "shell.execute_reply.started": "2022-03-22T04:18:20.972465Z"
    }
   },
   "outputs": [
    {
     "data": {
      "text/plain": [
       "0    6354407\n",
       "1       8213\n",
       "Name: isFraud, dtype: int64"
      ]
     },
     "execution_count": 8,
     "metadata": {},
     "output_type": "execute_result"
    }
   ],
   "source": [
    "df['isFraud'].value_counts()"
   ]
  },
  {
   "cell_type": "code",
   "execution_count": 9,
   "metadata": {
    "execution": {
     "iopub.execute_input": "2022-03-22T04:18:23.70129Z",
     "iopub.status.busy": "2022-03-22T04:18:23.700848Z",
     "iopub.status.idle": "2022-03-22T04:18:23.715146Z",
     "shell.execute_reply": "2022-03-22T04:18:23.714199Z",
     "shell.execute_reply.started": "2022-03-22T04:18:23.701249Z"
    }
   },
   "outputs": [],
   "source": [
    "fraud = df[df['isFraud'] == 1]"
   ]
  },
  {
   "cell_type": "raw",
   "metadata": {},
   "source": [
    "Before and after a non-zero amount is transacted, the data has many transactions with zero balances in the destination account. When compared to authentic transactions, the fraction of such transactions where zero presumably signifies a missing value is substantially higher in fraudulent (50 percent) (0.06 percent )."
   ]
  },
  {
   "cell_type": "code",
   "execution_count": 10,
   "metadata": {
    "execution": {
     "iopub.execute_input": "2022-03-22T04:18:25.746241Z",
     "iopub.status.busy": "2022-03-22T04:18:25.745789Z",
     "iopub.status.idle": "2022-03-22T04:18:26.645624Z",
     "shell.execute_reply": "2022-03-22T04:18:26.644677Z",
     "shell.execute_reply.started": "2022-03-22T04:18:25.746211Z"
    }
   },
   "outputs": [
    {
     "data": {
      "text/plain": [
       "step              0\n",
       "type              0\n",
       "amount            0\n",
       "nameOrig          0\n",
       "oldbalanceOrg     0\n",
       "newbalanceOrig    0\n",
       "nameDest          0\n",
       "oldbalanceDest    0\n",
       "newbalanceDest    0\n",
       "isFraud           0\n",
       "isFlaggedFraud    0\n",
       "dtype: int64"
      ]
     },
     "execution_count": 10,
     "metadata": {},
     "output_type": "execute_result"
    }
   ],
   "source": [
    "df.isnull().sum()"
   ]
  },
  {
   "cell_type": "markdown",
   "metadata": {},
   "source": [
    "Splitting Numerical and Categorical Data"
   ]
  },
  {
   "cell_type": "code",
   "execution_count": 11,
   "metadata": {
    "execution": {
     "iopub.execute_input": "2022-03-22T04:18:29.386151Z",
     "iopub.status.busy": "2022-03-22T04:18:29.385846Z",
     "iopub.status.idle": "2022-03-22T04:18:29.839437Z",
     "shell.execute_reply": "2022-03-22T04:18:29.838428Z",
     "shell.execute_reply.started": "2022-03-22T04:18:29.386117Z"
    }
   },
   "outputs": [
    {
     "data": {
      "text/plain": [
       "['type', 'nameOrig', 'nameDest']"
      ]
     },
     "execution_count": 11,
     "metadata": {},
     "output_type": "execute_result"
    }
   ],
   "source": [
    "cat = [i for i in df.drop('isFraud', axis=1).columns if df[i].dtypes == 'O']\n",
    "cat"
   ]
  },
  {
   "cell_type": "code",
   "execution_count": 12,
   "metadata": {
    "execution": {
     "iopub.execute_input": "2022-03-22T04:18:29.841676Z",
     "iopub.status.busy": "2022-03-22T04:18:29.840863Z",
     "iopub.status.idle": "2022-03-22T04:18:30.293857Z",
     "shell.execute_reply": "2022-03-22T04:18:30.29304Z",
     "shell.execute_reply.started": "2022-03-22T04:18:29.841641Z"
    }
   },
   "outputs": [
    {
     "data": {
      "text/plain": [
       "['step',\n",
       " 'amount',\n",
       " 'oldbalanceOrg',\n",
       " 'newbalanceOrig',\n",
       " 'oldbalanceDest',\n",
       " 'newbalanceDest',\n",
       " 'isFlaggedFraud']"
      ]
     },
     "execution_count": 12,
     "metadata": {},
     "output_type": "execute_result"
    }
   ],
   "source": [
    "num = [i for i in df.drop('isFraud', axis=1).columns if df[i].dtypes != 'O']\n",
    "num"
   ]
  },
  {
   "cell_type": "markdown",
   "metadata": {},
   "source": [
    "# Categorical Data"
   ]
  },
  {
   "cell_type": "raw",
   "metadata": {},
   "source": [
    "Let's determine the number of frauds for each of these categories based on the type of transaction. Simply categorising by category and fraud indicator and counting the rows will enough.The transaction type is the only categorical variable in the dataset. This functionality requires the creation of dummy variables and the encoding of binary variables. \n",
    "\n",
    "It's interesting to note that only CASH OUT and TRANSFER types have fraudulent activity.Fraud is committed in this dataset by first moving funds to another account, which then cashes them out."
   ]
  },
  {
   "cell_type": "code",
   "execution_count": 13,
   "metadata": {},
   "outputs": [
    {
     "data": {
      "text/plain": [
       "type      isFraud\n",
       "CASH_IN   0          1399284\n",
       "CASH_OUT  0          2233384\n",
       "          1             4116\n",
       "DEBIT     0            41432\n",
       "PAYMENT   0          2151495\n",
       "TRANSFER  0           528812\n",
       "          1             4097\n",
       "Name: step, dtype: int64"
      ]
     },
     "execution_count": 13,
     "metadata": {},
     "output_type": "execute_result"
    }
   ],
   "source": [
    "df.groupby(['type', 'isFraud']).count()['step']"
   ]
  },
  {
   "cell_type": "code",
   "execution_count": 14,
   "metadata": {
    "execution": {
     "iopub.execute_input": "2022-03-22T04:18:32.791392Z",
     "iopub.status.busy": "2022-03-22T04:18:32.7906Z",
     "iopub.status.idle": "2022-03-22T04:18:36.685874Z",
     "shell.execute_reply": "2022-03-22T04:18:36.684926Z",
     "shell.execute_reply.started": "2022-03-22T04:18:32.791345Z"
    }
   },
   "outputs": [
    {
     "data": {
      "image/png": "[encoded data removed]",
      "text/plain": [
       "<Figure size 432x288 with 1 Axes>"
      ]
     },
     "metadata": {},
     "output_type": "display_data"
    }
   ],
   "source": [
    "sns.countplot(df['type'], palette='Set1');"
   ]
  },
  {
   "cell_type": "raw",
   "metadata": {},
   "source": [
    " What factors influence whether the feature isFlaggedFraud is enabled or disabled?"
   ]
  },
  {
   "cell_type": "raw",
   "metadata": {},
   "source": [
    "When an attempt is made to 'TRANSFER' a 'amount' more than 200,000, the data is characterised as isFlaggedFraud being set. In fact, even if this requirement is met, isFlaggedFraud can remain unset, as seen below."
   ]
  },
  {
   "cell_type": "code",
   "execution_count": 15,
   "metadata": {},
   "outputs": [
    {
     "name": "stdout",
     "output_type": "stream",
     "text": [
      "\n",
      "The type of transactions in which isFlaggedFraud is set: ['TRANSFER']\n",
      "\n",
      "Min amount transacted when isFlaggedFraud is set= 353874.22\n",
      "\n",
      "Max amount transacted in a TRANSFER where isFlaggedFraud is not set= 92445516.64\n"
     ]
    }
   ],
   "source": [
    "print('\\nThe type of transactions in which isFlaggedFraud is set: \\\n",
    "{}'.format(list(df.loc[df.isFlaggedFraud == 1].type.drop_duplicates()))) \n",
    "                                                          \n",
    "dfTransfer = df.loc[df.type == 'TRANSFER']\n",
    "dfFlagged = df.loc[df.isFlaggedFraud == 1]\n",
    "dfNotFlagged = df.loc[df.isFlaggedFraud == 0]\n",
    "\n",
    "print('\\nMin amount transacted when isFlaggedFraud is set= {}'\\\n",
    "                                  .format(dfFlagged.amount.min())) \n",
    "\n",
    "print('\\nMax amount transacted in a TRANSFER where isFlaggedFraud is not set=\\\n",
    " {}'.format(dfTransfer.loc[dfTransfer.isFlaggedFraud == 0].amount.max())) "
   ]
  },
  {
   "cell_type": "raw",
   "metadata": {},
   "source": [
    "Since the corresponding range of values overlaps with that for TRANSFERs where isFlaggedFraud is not set (see below).   We don't need to bother about newBalanceOrig because it's only updated after the transaction, whereas isFlaggedFraud is set before the transaction."
   ]
  },
  {
   "cell_type": "raw",
   "metadata": {},
   "source": [
    "Transactions with the isFlaggedFraud set occur at all values of step, just as the complementary set of transactions does. As a result, isFlaggedFraud has no correlation with step and appears to be unconnected to any explanatory variable or feature in the data."
   ]
  },
  {
   "cell_type": "code",
   "execution_count": 16,
   "metadata": {
    "execution": {
     "iopub.execute_input": "2022-03-21T13:52:33.260136Z",
     "iopub.status.busy": "2022-03-21T13:52:33.259241Z",
     "iopub.status.idle": "2022-03-21T13:52:40.841807Z",
     "shell.execute_reply": "2022-03-21T13:52:40.840767Z",
     "shell.execute_reply.started": "2022-03-21T13:52:33.260079Z"
    }
   },
   "outputs": [
    {
     "data": {
      "text/plain": [
       "(6353307, 2722362)"
      ]
     },
     "execution_count": 16,
     "metadata": {},
     "output_type": "execute_result"
    }
   ],
   "source": [
    "df['nameOrig'].nunique(), df['nameDest'].nunique()"
   ]
  },
  {
   "cell_type": "code",
   "execution_count": 17,
   "metadata": {
    "execution": {
     "iopub.execute_input": "2022-03-21T13:57:28.368924Z",
     "iopub.status.busy": "2022-03-21T13:57:28.368615Z",
     "iopub.status.idle": "2022-03-21T13:57:53.461457Z",
     "shell.execute_reply": "2022-03-21T13:57:53.460409Z",
     "shell.execute_reply.started": "2022-03-21T13:57:28.368892Z"
    }
   },
   "outputs": [
    {
     "data": {
      "text/plain": [
       "<AxesSubplot:xlabel='step', ylabel='Density'>"
      ]
     },
     "execution_count": 17,
     "metadata": {},
     "output_type": "execute_result"
    },
    {
     "data": {
      "image/png": "[encoded data removed]",
      "text/plain": [
       "<Figure size 432x288 with 1 Axes>"
      ]
     },
     "metadata": {},
     "output_type": "display_data"
    }
   ],
   "source": [
    "sns.distplot(df['step'])"
   ]
  },
  {
   "cell_type": "code",
   "execution_count": 18,
   "metadata": {
    "execution": {
     "iopub.execute_input": "2022-03-22T04:18:49.051865Z",
     "iopub.status.busy": "2022-03-22T04:18:49.051323Z",
     "iopub.status.idle": "2022-03-22T04:19:09.977993Z",
     "shell.execute_reply": "2022-03-22T04:19:09.977035Z",
     "shell.execute_reply.started": "2022-03-22T04:18:49.051818Z"
    }
   },
   "outputs": [
    {
     "data": {
      "text/plain": [
       "<AxesSubplot:xlabel='amount', ylabel='Density'>"
      ]
     },
     "execution_count": 18,
     "metadata": {},
     "output_type": "execute_result"
    },
    {
     "data": {
      "image/png": "[encoded data removed]",
      "text/plain": [
       "<Figure size 432x288 with 1 Axes>"
      ]
     },
     "metadata": {},
     "output_type": "display_data"
    }
   ],
   "source": [
    "sns.distplot(df['amount'])"
   ]
  },
  {
   "cell_type": "code",
   "execution_count": 19,
   "metadata": {
    "execution": {
     "iopub.execute_input": "2022-03-22T04:19:43.086115Z",
     "iopub.status.busy": "2022-03-22T04:19:43.085791Z",
     "iopub.status.idle": "2022-03-22T04:19:43.468626Z",
     "shell.execute_reply": "2022-03-22T04:19:43.468001Z",
     "shell.execute_reply.started": "2022-03-22T04:19:43.086081Z"
    }
   },
   "outputs": [
    {
     "data": {
      "image/png": "[encoded data removed]",
      "text/plain": [
       "<Figure size 432x288 with 1 Axes>"
      ]
     },
     "metadata": {},
     "output_type": "display_data"
    }
   ],
   "source": [
    "sns.distplot(fraud['amount']);"
   ]
  },
  {
   "cell_type": "markdown",
   "metadata": {},
   "source": [
    "We can see that fraud is only when amount is low."
   ]
  },
  {
   "cell_type": "code",
   "execution_count": 20,
   "metadata": {
    "execution": {
     "iopub.execute_input": "2022-03-22T04:42:59.041594Z",
     "iopub.status.busy": "2022-03-22T04:42:59.041325Z",
     "iopub.status.idle": "2022-03-22T04:42:59.048274Z",
     "shell.execute_reply": "2022-03-22T04:42:59.047536Z",
     "shell.execute_reply.started": "2022-03-22T04:42:59.041567Z"
    }
   },
   "outputs": [
    {
     "data": {
      "text/plain": [
       "step                int64\n",
       "type               object\n",
       "amount            float64\n",
       "nameOrig           object\n",
       "oldbalanceOrg     float64\n",
       "newbalanceOrig    float64\n",
       "nameDest           object\n",
       "oldbalanceDest    float64\n",
       "newbalanceDest    float64\n",
       "isFraud             int64\n",
       "isFlaggedFraud      int64\n",
       "dtype: object"
      ]
     },
     "execution_count": 20,
     "metadata": {},
     "output_type": "execute_result"
    }
   ],
   "source": [
    "df.dtypes"
   ]
  },
  {
   "cell_type": "code",
   "execution_count": 21,
   "metadata": {
    "execution": {
     "iopub.execute_input": "2022-03-22T04:34:03.181483Z",
     "iopub.status.busy": "2022-03-22T04:34:03.181045Z",
     "iopub.status.idle": "2022-03-22T04:34:03.899361Z",
     "shell.execute_reply": "2022-03-22T04:34:03.898309Z",
     "shell.execute_reply.started": "2022-03-22T04:34:03.181452Z"
    }
   },
   "outputs": [
    {
     "data": {
      "text/html": [
       "<div>\n",
       "<style scoped>\n",
       "    .dataframe tbody tr th:only-of-type {\n",
       "        vertical-align: middle;\n",
       "    }\n",
       "\n",
       "    .dataframe tbody tr th {\n",
       "        vertical-align: top;\n",
       "    }\n",
       "\n",
       "    .dataframe thead th {\n",
       "        text-align: right;\n",
       "    }\n",
       "</style>\n",
       "<table border=\"1\" class=\"dataframe\">\n",
       "  <thead>\n",
       "    <tr style=\"text-align: right;\">\n",
       "      <th></th>\n",
       "      <th>type_CASH_OUT</th>\n",
       "      <th>type_DEBIT</th>\n",
       "      <th>type_PAYMENT</th>\n",
       "      <th>type_TRANSFER</th>\n",
       "    </tr>\n",
       "  </thead>\n",
       "  <tbody>\n",
       "    <tr>\n",
       "      <th>0</th>\n",
       "      <td>0</td>\n",
       "      <td>0</td>\n",
       "      <td>1</td>\n",
       "      <td>0</td>\n",
       "    </tr>\n",
       "    <tr>\n",
       "      <th>1</th>\n",
       "      <td>0</td>\n",
       "      <td>0</td>\n",
       "      <td>1</td>\n",
       "      <td>0</td>\n",
       "    </tr>\n",
       "    <tr>\n",
       "      <th>2</th>\n",
       "      <td>0</td>\n",
       "      <td>0</td>\n",
       "      <td>0</td>\n",
       "      <td>1</td>\n",
       "    </tr>\n",
       "    <tr>\n",
       "      <th>3</th>\n",
       "      <td>1</td>\n",
       "      <td>0</td>\n",
       "      <td>0</td>\n",
       "      <td>0</td>\n",
       "    </tr>\n",
       "    <tr>\n",
       "      <th>4</th>\n",
       "      <td>0</td>\n",
       "      <td>0</td>\n",
       "      <td>1</td>\n",
       "      <td>0</td>\n",
       "    </tr>\n",
       "  </tbody>\n",
       "</table>\n",
       "</div>"
      ],
      "text/plain": [
       "   type_CASH_OUT  type_DEBIT  type_PAYMENT  type_TRANSFER\n",
       "0              0           0             1              0\n",
       "1              0           0             1              0\n",
       "2              0           0             0              1\n",
       "3              1           0             0              0\n",
       "4              0           0             1              0"
      ]
     },
     "execution_count": 21,
     "metadata": {},
     "output_type": "execute_result"
    }
   ],
   "source": [
    "types = pd.get_dummies(df['type'], prefix='type', drop_first=True)\n",
    "types.head()"
   ]
  },
  {
   "cell_type": "code",
   "execution_count": 22,
   "metadata": {
    "execution": {
     "iopub.execute_input": "2022-03-22T04:40:09.892238Z",
     "iopub.status.busy": "2022-03-22T04:40:09.891303Z",
     "iopub.status.idle": "2022-03-22T04:41:10.743461Z",
     "shell.execute_reply": "2022-03-22T04:41:10.74243Z",
     "shell.execute_reply.started": "2022-03-22T04:40:09.892196Z"
    }
   },
   "outputs": [],
   "source": [
    "df['nameOrig'] = label.fit_transform(df['nameOrig'])\n",
    "df['nameDest'] = label.fit_transform(df['nameDest'])"
   ]
  },
  {
   "cell_type": "code",
   "execution_count": 23,
   "metadata": {
    "execution": {
     "iopub.execute_input": "2022-03-22T04:42:16.176892Z",
     "iopub.status.busy": "2022-03-22T04:42:16.176596Z",
     "iopub.status.idle": "2022-03-22T04:42:16.534034Z",
     "shell.execute_reply": "2022-03-22T04:42:16.533049Z",
     "shell.execute_reply.started": "2022-03-22T04:42:16.176861Z"
    }
   },
   "outputs": [
    {
     "data": {
      "text/html": [
       "<div>\n",
       "<style scoped>\n",
       "    .dataframe tbody tr th:only-of-type {\n",
       "        vertical-align: middle;\n",
       "    }\n",
       "\n",
       "    .dataframe tbody tr th {\n",
       "        vertical-align: top;\n",
       "    }\n",
       "\n",
       "    .dataframe thead th {\n",
       "        text-align: right;\n",
       "    }\n",
       "</style>\n",
       "<table border=\"1\" class=\"dataframe\">\n",
       "  <thead>\n",
       "    <tr style=\"text-align: right;\">\n",
       "      <th></th>\n",
       "      <th>nameOrig</th>\n",
       "      <th>nameDest</th>\n",
       "    </tr>\n",
       "  </thead>\n",
       "  <tbody>\n",
       "    <tr>\n",
       "      <th>0</th>\n",
       "      <td>757869</td>\n",
       "      <td>1662094</td>\n",
       "    </tr>\n",
       "    <tr>\n",
       "      <th>1</th>\n",
       "      <td>2188998</td>\n",
       "      <td>1733924</td>\n",
       "    </tr>\n",
       "    <tr>\n",
       "      <th>2</th>\n",
       "      <td>1002156</td>\n",
       "      <td>439685</td>\n",
       "    </tr>\n",
       "    <tr>\n",
       "      <th>3</th>\n",
       "      <td>5828262</td>\n",
       "      <td>391696</td>\n",
       "    </tr>\n",
       "    <tr>\n",
       "      <th>4</th>\n",
       "      <td>3445981</td>\n",
       "      <td>828919</td>\n",
       "    </tr>\n",
       "    <tr>\n",
       "      <th>...</th>\n",
       "      <td>...</td>\n",
       "      <td>...</td>\n",
       "    </tr>\n",
       "    <tr>\n",
       "      <th>6362615</th>\n",
       "      <td>5651847</td>\n",
       "      <td>505863</td>\n",
       "    </tr>\n",
       "    <tr>\n",
       "      <th>6362616</th>\n",
       "      <td>1737278</td>\n",
       "      <td>260949</td>\n",
       "    </tr>\n",
       "    <tr>\n",
       "      <th>6362617</th>\n",
       "      <td>533958</td>\n",
       "      <td>108224</td>\n",
       "    </tr>\n",
       "    <tr>\n",
       "      <th>6362618</th>\n",
       "      <td>2252932</td>\n",
       "      <td>319713</td>\n",
       "    </tr>\n",
       "    <tr>\n",
       "      <th>6362619</th>\n",
       "      <td>919229</td>\n",
       "      <td>534595</td>\n",
       "    </tr>\n",
       "  </tbody>\n",
       "</table>\n",
       "<p>6362620 rows × 2 columns</p>\n",
       "</div>"
      ],
      "text/plain": [
       "         nameOrig  nameDest\n",
       "0          757869   1662094\n",
       "1         2188998   1733924\n",
       "2         1002156    439685\n",
       "3         5828262    391696\n",
       "4         3445981    828919\n",
       "...           ...       ...\n",
       "6362615   5651847    505863\n",
       "6362616   1737278    260949\n",
       "6362617    533958    108224\n",
       "6362618   2252932    319713\n",
       "6362619    919229    534595\n",
       "\n",
       "[6362620 rows x 2 columns]"
      ]
     },
     "execution_count": 23,
     "metadata": {},
     "output_type": "execute_result"
    }
   ],
   "source": [
    "df[['nameOrig', 'nameDest']]"
   ]
  },
  {
   "cell_type": "code",
   "execution_count": 24,
   "metadata": {
    "execution": {
     "iopub.execute_input": "2022-03-22T04:50:04.872572Z",
     "iopub.status.busy": "2022-03-22T04:50:04.872085Z",
     "iopub.status.idle": "2022-03-22T04:50:05.368574Z",
     "shell.execute_reply": "2022-03-22T04:50:05.367751Z",
     "shell.execute_reply.started": "2022-03-22T04:50:04.872523Z"
    }
   },
   "outputs": [
    {
     "data": {
      "text/html": [
       "<div>\n",
       "<style scoped>\n",
       "    .dataframe tbody tr th:only-of-type {\n",
       "        vertical-align: middle;\n",
       "    }\n",
       "\n",
       "    .dataframe tbody tr th {\n",
       "        vertical-align: top;\n",
       "    }\n",
       "\n",
       "    .dataframe thead th {\n",
       "        text-align: right;\n",
       "    }\n",
       "</style>\n",
       "<table border=\"1\" class=\"dataframe\">\n",
       "  <thead>\n",
       "    <tr style=\"text-align: right;\">\n",
       "      <th></th>\n",
       "      <th>step</th>\n",
       "      <th>amount</th>\n",
       "      <th>nameOrig</th>\n",
       "      <th>oldbalanceOrg</th>\n",
       "      <th>newbalanceOrig</th>\n",
       "      <th>nameDest</th>\n",
       "      <th>oldbalanceDest</th>\n",
       "      <th>newbalanceDest</th>\n",
       "      <th>isFraud</th>\n",
       "      <th>isFlaggedFraud</th>\n",
       "      <th>type_CASH_OUT</th>\n",
       "      <th>type_DEBIT</th>\n",
       "      <th>type_PAYMENT</th>\n",
       "      <th>type_TRANSFER</th>\n",
       "    </tr>\n",
       "  </thead>\n",
       "  <tbody>\n",
       "    <tr>\n",
       "      <th>0</th>\n",
       "      <td>1</td>\n",
       "      <td>9839.64</td>\n",
       "      <td>757869</td>\n",
       "      <td>170136.0</td>\n",
       "      <td>160296.36</td>\n",
       "      <td>1662094</td>\n",
       "      <td>0.0</td>\n",
       "      <td>0.0</td>\n",
       "      <td>0</td>\n",
       "      <td>0</td>\n",
       "      <td>0</td>\n",
       "      <td>0</td>\n",
       "      <td>1</td>\n",
       "      <td>0</td>\n",
       "    </tr>\n",
       "    <tr>\n",
       "      <th>1</th>\n",
       "      <td>1</td>\n",
       "      <td>1864.28</td>\n",
       "      <td>2188998</td>\n",
       "      <td>21249.0</td>\n",
       "      <td>19384.72</td>\n",
       "      <td>1733924</td>\n",
       "      <td>0.0</td>\n",
       "      <td>0.0</td>\n",
       "      <td>0</td>\n",
       "      <td>0</td>\n",
       "      <td>0</td>\n",
       "      <td>0</td>\n",
       "      <td>1</td>\n",
       "      <td>0</td>\n",
       "    </tr>\n",
       "    <tr>\n",
       "      <th>2</th>\n",
       "      <td>1</td>\n",
       "      <td>181.00</td>\n",
       "      <td>1002156</td>\n",
       "      <td>181.0</td>\n",
       "      <td>0.00</td>\n",
       "      <td>439685</td>\n",
       "      <td>0.0</td>\n",
       "      <td>0.0</td>\n",
       "      <td>1</td>\n",
       "      <td>0</td>\n",
       "      <td>0</td>\n",
       "      <td>0</td>\n",
       "      <td>0</td>\n",
       "      <td>1</td>\n",
       "    </tr>\n",
       "    <tr>\n",
       "      <th>3</th>\n",
       "      <td>1</td>\n",
       "      <td>181.00</td>\n",
       "      <td>5828262</td>\n",
       "      <td>181.0</td>\n",
       "      <td>0.00</td>\n",
       "      <td>391696</td>\n",
       "      <td>21182.0</td>\n",
       "      <td>0.0</td>\n",
       "      <td>1</td>\n",
       "      <td>0</td>\n",
       "      <td>1</td>\n",
       "      <td>0</td>\n",
       "      <td>0</td>\n",
       "      <td>0</td>\n",
       "    </tr>\n",
       "    <tr>\n",
       "      <th>4</th>\n",
       "      <td>1</td>\n",
       "      <td>11668.14</td>\n",
       "      <td>3445981</td>\n",
       "      <td>41554.0</td>\n",
       "      <td>29885.86</td>\n",
       "      <td>828919</td>\n",
       "      <td>0.0</td>\n",
       "      <td>0.0</td>\n",
       "      <td>0</td>\n",
       "      <td>0</td>\n",
       "      <td>0</td>\n",
       "      <td>0</td>\n",
       "      <td>1</td>\n",
       "      <td>0</td>\n",
       "    </tr>\n",
       "  </tbody>\n",
       "</table>\n",
       "</div>"
      ],
      "text/plain": [
       "   step    amount  nameOrig  oldbalanceOrg  newbalanceOrig  nameDest  \\\n",
       "0     1   9839.64    757869       170136.0       160296.36   1662094   \n",
       "1     1   1864.28   2188998        21249.0        19384.72   1733924   \n",
       "2     1    181.00   1002156          181.0            0.00    439685   \n",
       "3     1    181.00   5828262          181.0            0.00    391696   \n",
       "4     1  11668.14   3445981        41554.0        29885.86    828919   \n",
       "\n",
       "   oldbalanceDest  newbalanceDest  isFraud  isFlaggedFraud  type_CASH_OUT  \\\n",
       "0             0.0             0.0        0               0              0   \n",
       "1             0.0             0.0        0               0              0   \n",
       "2             0.0             0.0        1               0              0   \n",
       "3         21182.0             0.0        1               0              1   \n",
       "4             0.0             0.0        0               0              0   \n",
       "\n",
       "   type_DEBIT  type_PAYMENT  type_TRANSFER  \n",
       "0           0             1              0  \n",
       "1           0             1              0  \n",
       "2           0             0              1  \n",
       "3           0             0              0  \n",
       "4           0             1              0  "
      ]
     },
     "execution_count": 24,
     "metadata": {},
     "output_type": "execute_result"
    }
   ],
   "source": [
    "df = pd.concat([df, types], axis=1)\n",
    "df = df.drop('type', axis=1)\n",
    "df.head()"
   ]
  },
  {
   "cell_type": "markdown",
   "metadata": {},
   "source": [
    "# Cleaning the data"
   ]
  },
  {
   "cell_type": "raw",
   "metadata": {},
   "source": [
    "In the data cleaning, we check for missing values, converted data types and summarize the variables in the data. "
   ]
  },
  {
   "cell_type": "code",
   "execution_count": 25,
   "metadata": {
    "execution": {
     "iopub.execute_input": "2022-03-22T05:01:42.361435Z",
     "iopub.status.busy": "2022-03-22T05:01:42.360868Z",
     "iopub.status.idle": "2022-03-22T05:01:42.366925Z",
     "shell.execute_reply": "2022-03-22T05:01:42.366054Z",
     "shell.execute_reply.started": "2022-03-22T05:01:42.361389Z"
    }
   },
   "outputs": [],
   "source": [
    "X = df.drop('isFraud', axis=1)\n",
    "y = df['isFraud']"
   ]
  },
  {
   "cell_type": "markdown",
   "metadata": {},
   "source": [
    "# Model selection"
   ]
  },
  {
   "cell_type": "code",
   "execution_count": 32,
   "metadata": {
    "execution": {
     "iopub.execute_input": "2022-03-22T05:01:43.35654Z",
     "iopub.status.busy": "2022-03-22T05:01:43.355964Z",
     "iopub.status.idle": "2022-03-22T05:01:43.362553Z",
     "shell.execute_reply": "2022-03-22T05:01:43.361834Z",
     "shell.execute_reply.started": "2022-03-22T05:01:43.356501Z"
    }
   },
   "outputs": [],
   "source": [
    "X, X_test, y, y_test = train_test_split(X, y, test_size=0.2, random_state=21)"
   ]
  },
  {
   "cell_type": "raw",
   "metadata": {},
   "source": [
    "To deal with unbalanced data, we can balance it by removing the majority class before using an ML algorithm. Undersampling has the disadvantage that a model trained this manner would not perform well on real-world skewed test data because nearly all of the information was removed. Oversampling the minority class, such as using the  synthetic minority oversampling method (SMOTE), would be a superior solution. As a result, I experimented with a number of anomaly detection and supervised learning methods. On the original dataset, however, I discover that the best result is obtained by applying a machine learning technique based on ensembles of decision trees, which intrinsically works well on unbalanced data.Such algorithms not only allow us to build a model that can deal with missing values in our data, but they also allow us to speed up the process by using parallel processing. The extreme gradient-boosted (XGBoost) technique employed below marginally beats random-forest among these algorithms. Finally, XGBoost, like numerous other ML algorithms, provides for a higher weighting of the positive class than the negative class."
   ]
  },
  {
   "cell_type": "code",
   "execution_count": null,
   "metadata": {
    "execution": {
     "iopub.execute_input": "2022-03-22T05:01:45.261395Z",
     "iopub.status.busy": "2022-03-22T05:01:45.261108Z",
     "iopub.status.idle": "2022-03-22T05:01:48.572696Z",
     "shell.execute_reply": "2022-03-22T05:01:48.571582Z",
     "shell.execute_reply.started": "2022-03-22T05:01:45.261363Z"
    }
   },
   "outputs": [
    {
     "data": {
      "application/vnd.jupyter.widget-view+json": {
       "model_id": "140355862c9a4d2287147d18ba2cec21",
       "version_major": 2,
       "version_minor": 0
      },
      "text/plain": [
       "  0%|          | 0/2 [00:00<?, ?it/s]"
      ]
     },
     "metadata": {},
     "output_type": "display_data"
    },
    {
     "name": "stdout",
     "output_type": "stream",
     "text": [
      "----------\n",
      "| fold 1 |\n",
      "----------\n"
     ]
    }
   ],
   "source": [
    "# N_SPLITS = 2  # previous:300, increasing N_SPLITS to remove error due to randomness\n",
    "\n",
    "lgbm_preds = []\n",
    "xgb_preds = []\n",
    "catb_preds = []\n",
    "\n",
    "prob = []\n",
    "\n",
    "folds = StratifiedKFold(n_splits=N_SPLITS, shuffle=True)\n",
    "\n",
    "for fold, (train_id, test_id) in enumerate(tqdm(folds.split(X, y), total=N_SPLITS)):\n",
    "\n",
    "    my_print(f'fold {fold + 1}')\n",
    "\n",
    "    X_train, y_train = X.iloc[train_id], y.iloc[train_id] \n",
    "    X_valid, y_valid = X.iloc[test_id], y.iloc[test_id]\n",
    "    \n",
    "    lgbm_model = lgbm.LGBMClassifier()\n",
    "    xgb_model  = xgb.XGBClassifier()\n",
    "    catb_model = catb.CatBoostClassifier(verbose=0)\n",
    "    \n",
    "    lgbm_model.fit(X_train, y_train)\n",
    "    xgb_model.fit(X_train, y_train)\n",
    "    catb_model.fit(X_train, y_train)\n",
    "        \n",
    "    my_print(f'Training Accuracy   :- {(lgbm_model.score(X_train, y_train)*100).round(2)}% | {(xgb_model.score(X_train, y_train)*100).round(2)}% | {(catb_model.score(X_train, y_train)*100).round(2)}%')\n",
    "    my_print(f'Validation Accuracy :- {(lgbm_model.score(X_valid, y_valid)*100).round(2)}% | {(xgb_model.score(X_valid, y_valid)*100).round(2)}% | {(catb_model.score(X_valid, y_valid)*100).round(2)}%')\n",
    "    \n",
    "    prob1, prob2, prob3 = lgbm_model.predict_proba(X_test), xgb_model.predict_proba(X_test), catb_model.predict_proba(X_test)\n",
    "    prob.append((prob1 + prob2 + prob3) / 3)\n",
    "    my_print('Model Trained !!!')\n",
    "    xgb_model  = xgb.XGBClassifier()\n",
    "    X_train, y_train = X.iloc[train_id], y.iloc[train_id] \n",
    "    weights = (y==0).sum()/(1.0 *  (y==1).sum())\n",
    "    xgb_classifier1 = xgb.XGBClassifier(max_depth = 3, scale_pos_weight = weights, n_jobs = 4)\n",
    "    xgb_prediction1 = xgb_classifier1.fit(X_train, y_train).predict_proba(X_test)\n",
    "\n",
    "    print('AUPRC = {}'.format(average_precision_score(Y_test, xgb_prediction1[:,1])))"
   ]
  },
  {
   "cell_type": "code",
   "execution_count": null,
   "metadata": {
    "execution": {
     "iopub.execute_input": "2022-03-22T05:02:18.037461Z",
     "iopub.status.busy": "2022-03-22T05:02:18.037166Z",
     "iopub.status.idle": "2022-03-22T05:02:18.045392Z",
     "shell.execute_reply": "2022-03-22T05:02:18.044396Z",
     "shell.execute_reply.started": "2022-03-22T05:02:18.037431Z"
    }
   },
   "outputs": [],
   "source": [
    "final = [[0,0]]\n",
    "for i in range(N_SPLITS):\n",
    "    final = final + prob[i]\n",
    "    \n",
    "final = final/N_SPLITS\n",
    "y_pred = pd.Series([np.argmax([i]) for i in final])"
   ]
  },
  {
   "cell_type": "code",
   "execution_count": null,
   "metadata": {
    "execution": {
     "iopub.execute_input": "2022-03-22T05:05:44.922058Z",
     "iopub.status.busy": "2022-03-22T05:05:44.921295Z",
     "iopub.status.idle": "2022-03-22T05:05:44.928326Z",
     "shell.execute_reply": "2022-03-22T05:05:44.927373Z",
     "shell.execute_reply.started": "2022-03-22T05:05:44.922017Z"
    }
   },
   "outputs": [],
   "source": [
    "from sklearn.metrics import accuracy_score, confusion_matrix\n",
    "\n",
    "my_print(f'Test Accuracy:- {accuracy_score(y_test, y_pred)*100}%')"
   ]
  },
  {
   "cell_type": "code",
   "execution_count": null,
   "metadata": {
    "execution": {
     "iopub.execute_input": "2022-03-22T05:07:08.041559Z",
     "iopub.status.busy": "2022-03-22T05:07:08.040846Z",
     "iopub.status.idle": "2022-03-22T05:07:08.289706Z",
     "shell.execute_reply": "2022-03-22T05:07:08.288763Z",
     "shell.execute_reply.started": "2022-03-22T05:07:08.041516Z"
    }
   },
   "outputs": [],
   "source": [
    "sns.heatmap(confusion_matrix(y_test, y_pred), cmap='YlGnBu', linewidths=0.5, annot=True);"
   ]
  },
  {
   "cell_type": "markdown",
   "metadata": {},
   "source": [
    "# Ways to tackle "
   ]
  },
  {
   "cell_type": "markdown",
   "metadata": {},
   "source": [
    "1.One clever option for medium-sized businesses is to collaborate, with fraudulent clients' profiles and delinquent data being submitted to a pooled database that can be accessed for the greater good. For example, using solutions provided by startups and organisations that develop insights to detect frauds, corporations might assign a risk score to each profile. There are solutions to map the digital trail of identities based on a variety of parameters such as fraud history, location, and name match percentage across platforms to give a clear signal to companies on the authenticity of the identity right from the start and decide whether to onboard a client or not.\n",
    "\n",
    "2.Additional verification, such as facial recognition or biometric data, may be necessary to improve the security provided by Machine Learning. These security solutions necessitate the use of real people to validate the activity, lowering the chances of a successful fraud.\n",
    "\n",
    "3.For better and more accurate results, the location spoofing details, as well as knowing where the fraudster is making these purchases from, must be incorporated to the ML algorithm."
   ]
  },
  {
   "cell_type": "markdown",
   "metadata": {},
   "source": [
    "# how would you determine if these techniques work?"
   ]
  },
  {
   "cell_type": "raw",
   "metadata": {},
   "source": [
    "This data must be fed into machine learning algorithms in order for them to recognise virtual IPs, machine anomalies, and fraudulent conduct. As a result, you can prevent fraud from crashing payment gateways."
   ]
  }
 ],
 "metadata": {
  "kernelspec": {
   "display_name": "Python 3 (ipykernel)",
   "language": "python",
   "name": "python3"
  },
  "language_info": {
   "codemirror_mode": {
    "name": "ipython",
    "version": 3
   },
   "file_extension": ".py",
   "mimetype": "text/x-python",
   "name": "python",
   "nbconvert_exporter": "python",
   "pygments_lexer": "ipython3",
   "version": "3.9.7"
  }
 },
 "nbformat": 4,
 "nbformat_minor": 4
}
